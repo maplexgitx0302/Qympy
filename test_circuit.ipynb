{
 "cells": [
  {
   "cell_type": "code",
   "execution_count": 1,
   "metadata": {},
   "outputs": [],
   "source": [
    "import numpy as np\n",
    "import sympy as sp\n",
    "import qiskit\n",
    "from qiskit import Aer, execute\n",
    "from qiskit.circuit import Parameter\n",
    "from qiskit.quantum_info import Statevector\n",
    "import itertools as it\n",
    "\n",
    "import circuit\n",
    "from scipy.special import rel_entr"
   ]
  },
  {
   "cell_type": "code",
   "execution_count": 2,
   "metadata": {},
   "outputs": [],
   "source": [
    "def prob_KL(num_qubits, num_gate):\n",
    "    qc = circuit.Circuit(num_qubits)\n",
    "\n",
    "    gate_list = ['h', 'x', 'y', 'z', 'rx', 'ry', 'rz', 'swap', 'cx', 'cz']\n",
    "    for i in range(num_gate):\n",
    "        rnd_gate = np.random.choice(gate_list)\n",
    "        if rnd_gate in ['h', 'x', 'y', 'z']:\n",
    "            wire = np.random.randint(num_qubits)\n",
    "            getattr(qc, rnd_gate)(wire)\n",
    "        elif rnd_gate in ['rx', 'ry', 'rz']:\n",
    "            symbol_name = f\"t_{i}\"\n",
    "            wire = np.random.randint(num_qubits)\n",
    "            getattr(qc, rnd_gate)(symbol_name, wire)\n",
    "        elif rnd_gate in ['swap', 'cx', 'cz']:\n",
    "            wire1, wire2 = np.random.choice(range(num_qubits), size=2, replace=False)\n",
    "            getattr(qc, rnd_gate)(wire1, wire2)\n",
    "\n",
    "    symbol_dict = {}\n",
    "    qiskit_dict = {}\n",
    "    for i in range(len(qc.qiskit_circuit.parameters)):\n",
    "        symbol_name = qc.qiskit_circuit.parameters[i].name\n",
    "        rnd_radian  = 2 * np.pi * np.random.rand()\n",
    "        # see https://stackoverflow.com/questions/73170057/sympy-evalf-for-real-symbol\n",
    "        symbol_dict[sp.Symbol(symbol_name, real=True)] = rnd_radian\n",
    "        qiskit_dict[qc.qiskit_circuit.parameters[i]] = rnd_radian\n",
    "    q_circuit = qc.qiskit_circuit.bind_parameters(qiskit_dict)\n",
    "\n",
    "    sv = Statevector.from_label(num_qubits * '0')\n",
    "    sv = sv.evolve(q_circuit)\n",
    "    sv = sv.reverse_qargs()\n",
    "    qc.evolve_state()\n",
    "    psi = np.array(sp.Abs(qc.final_state.evalf(subs=symbol_dict)), dtype=np.float).reshape(-1)\n",
    "    qiskit_prob = np.around(np.array(sv.probabilities(), dtype=np.float), decimals=5)\n",
    "    sympy_prob  = np.around(psi**2, decimals=5)\n",
    "    return qiskit_prob, sympy_prob"
   ]
  },
  {
   "cell_type": "code",
   "execution_count": 3,
   "metadata": {},
   "outputs": [],
   "source": [
    "for _ in range(10):\n",
    "    qiskit_prob, sympy_prob = prob_KL(num_qubits=3, num_gate=10)\n",
    "    # print(qiskit_prob)\n",
    "    # print(sympy_prob)\n",
    "    result_KL = np.sum(rel_entr(qiskit_prob, sympy_prob))\n",
    "    if result_KL != 0:\n",
    "        print(result_KL)"
   ]
  }
 ],
 "metadata": {
  "kernelspec": {
   "display_name": "Python 3.8.11 64-bit ('3.8.11')",
   "language": "python",
   "name": "python3"
  },
  "language_info": {
   "codemirror_mode": {
    "name": "ipython",
    "version": 3
   },
   "file_extension": ".py",
   "mimetype": "text/x-python",
   "name": "python",
   "nbconvert_exporter": "python",
   "pygments_lexer": "ipython3",
   "version": "3.8.11"
  },
  "orig_nbformat": 4,
  "vscode": {
   "interpreter": {
    "hash": "a5395b5e764a4418832adfd38f48924b0b13b60dc8377c790fe1d1109da8842f"
   }
  }
 },
 "nbformat": 4,
 "nbformat_minor": 2
}
