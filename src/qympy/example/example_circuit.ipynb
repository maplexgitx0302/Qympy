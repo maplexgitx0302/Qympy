{
 "cells": [
  {
   "cell_type": "code",
   "execution_count": 2,
   "metadata": {},
   "outputs": [],
   "source": [
    "import os, sys\n",
    "sys.path.append(\"../../\")\n",
    "\n",
    "import sympy as sp\n",
    "from qympy.quantum_circuit.sp_circuit import Circuit"
   ]
  },
  {
   "cell_type": "code",
   "execution_count": 3,
   "metadata": {},
   "outputs": [
    {
     "data": {
      "image/png": "[encoded data removed]",
      "text/plain": [
       "<Figure size 454.719x284.278 with 1 Axes>"
      ]
     },
     "execution_count": 3,
     "metadata": {},
     "output_type": "execute_result"
    }
   ],
   "source": [
    "qc = Circuit(3)   # initialize a 3-qubit quantum circuit\n",
    "qc.h(0)           # Hadamard gate on 0th qubit\n",
    "qc.ry(\"x\", 0)     # y-rotation on 0th qubit with theta = x\n",
    "qc.rxx(\"y\", 1, 2) # xx-rotation on 1st and 2nd qubits with theta = y\n",
    "qc.cx(0,1)        # CNOT on 1st and 2nd qubits\n",
    "qc.cz(1,2)        # CZ on 1st and 2nd qubits\n",
    "\n",
    "qc.draw(\"mpl\", filename=f\"./example_circuit.png\")"
   ]
  },
  {
   "cell_type": "code",
   "execution_count": 4,
   "metadata": {},
   "outputs": [
    {
     "data": {
      "text/latex": [
       "$\\displaystyle - \\left(- \\frac{\\sqrt{2} \\sin{\\left(\\frac{x}{2} \\right)}}{2} + \\frac{\\sqrt{2} \\cos{\\left(\\frac{x}{2} \\right)}}{2}\\right)^{2} \\sin^{2}{\\left(\\frac{y}{2} \\right)} + \\left(- \\frac{\\sqrt{2} \\sin{\\left(\\frac{x}{2} \\right)}}{2} + \\frac{\\sqrt{2} \\cos{\\left(\\frac{x}{2} \\right)}}{2}\\right)^{2} \\cos^{2}{\\left(\\frac{y}{2} \\right)} - \\left(\\frac{\\sqrt{2} \\sin{\\left(\\frac{x}{2} \\right)}}{2} + \\frac{\\sqrt{2} \\cos{\\left(\\frac{x}{2} \\right)}}{2}\\right)^{2} \\sin^{2}{\\left(\\frac{y}{2} \\right)} + \\left(\\frac{\\sqrt{2} \\sin{\\left(\\frac{x}{2} \\right)}}{2} + \\frac{\\sqrt{2} \\cos{\\left(\\frac{x}{2} \\right)}}{2}\\right)^{2} \\cos^{2}{\\left(\\frac{y}{2} \\right)}$"
      ],
      "text/plain": [
       "-(-sqrt(2)*sin(x/2)/2 + sqrt(2)*cos(x/2)/2)**2*sin(y/2)**2 + (-sqrt(2)*sin(x/2)/2 + sqrt(2)*cos(x/2)/2)**2*cos(y/2)**2 - (sqrt(2)*sin(x/2)/2 + sqrt(2)*cos(x/2)/2)**2*sin(y/2)**2 + (sqrt(2)*sin(x/2)/2 + sqrt(2)*cos(x/2)/2)**2*cos(y/2)**2"
      ]
     },
     "execution_count": 4,
     "metadata": {},
     "output_type": "execute_result"
    }
   ],
   "source": [
    "'''It would be a good habit to evolve the state first.\n",
    "Although when using 'measure' qympy will automatically evolve if you haven't evolve.\n",
    "We design in this way since we won't always need to know the final state for every case.'''\n",
    "\n",
    "qc.evolve() # evolve the circuit\n",
    "result = qc.measure(2, \"Z\") # measure the 2nd qubit in Z-basis\n",
    "\n",
    "from contextlib import redirect_stdout\n",
    "with open('example_circuit.txt', 'w') as f:\n",
    "    # save sympy pretty print to txt file\n",
    "    with redirect_stdout(f):\n",
    "        sp.pprint(result)\n",
    "\n",
    "result"
   ]
  }
 ],
 "metadata": {
  "kernelspec": {
   "display_name": "Python 3.9.12 64-bit ('3.9.12')",
   "language": "python",
   "name": "python3"
  },
  "language_info": {
   "codemirror_mode": {
    "name": "ipython",
    "version": 3
   },
   "file_extension": ".py",
   "mimetype": "text/x-python",
   "name": "python",
   "nbconvert_exporter": "python",
   "pygments_lexer": "ipython3",
   "version": "3.9.12"
  },
  "orig_nbformat": 4,
  "vscode": {
   "interpreter": {
    "hash": "5a4e50ce306cadecc040fef2ef7fca64662416065b3c74367558380d4115cc3b"
   }
  }
 },
 "nbformat": 4,
 "nbformat_minor": 2
}
