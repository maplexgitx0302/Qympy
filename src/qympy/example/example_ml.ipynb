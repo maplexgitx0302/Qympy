{
 "cells": [
  {
   "cell_type": "code",
   "execution_count": 1,
   "metadata": {},
   "outputs": [],
   "source": [
    "import os, sys\n",
    "sys.path.append(\"../../\")\n",
    "\n",
    "import sympy as sp\n",
    "from qympy.quantum_circuit.sp_circuit import Circuit\n",
    "from qympy.machine_learning.classical import Linear\n",
    "from qympy.machine_learning.quantum import Measurement, AngleEncoding, SingleRot"
   ]
  },
  {
   "cell_type": "code",
   "execution_count": 2,
   "metadata": {},
   "outputs": [],
   "source": [
    "class HybridModel:\n",
    "    def __init__(self, input_dim):\n",
    "        self.net = [\n",
    "            Linear(input_dim, input_dim),\n",
    "            AngleEncoding(input_dim, rot_gate=\"ry\") + SingleRot(input_dim, rot_mode=['rz'], ent_mode='cx'),\n",
    "            Measurement(qubits=[0], bases=[\"Z\"]),\n",
    "        ]\n",
    "    def __call__(self, x):\n",
    "        for submodel in self.net:\n",
    "            x = submodel(x)\n",
    "        return x"
   ]
  },
  {
   "cell_type": "code",
   "execution_count": 3,
   "metadata": {},
   "outputs": [
    {
     "data": {
      "text/latex": [
       "$\\displaystyle - \\sin^{2}{\\left(\\frac{L^{1}_{0}}{2} + \\frac{L^{1}_{1} x_{0}}{2} + \\frac{L^{1}_{2} x_{1}}{2} \\right)} \\sin^{2}{\\left(\\frac{L^{2}_{0}}{2} + \\frac{L^{2}_{1} x_{0}}{2} + \\frac{L^{2}_{2} x_{1}}{2} \\right)} - \\sin^{2}{\\left(\\frac{L^{1}_{0}}{2} + \\frac{L^{1}_{1} x_{0}}{2} + \\frac{L^{1}_{2} x_{1}}{2} \\right)} \\cos^{2}{\\left(\\frac{L^{2}_{0}}{2} + \\frac{L^{2}_{1} x_{0}}{2} + \\frac{L^{2}_{2} x_{1}}{2} \\right)} + \\sin^{2}{\\left(\\frac{L^{2}_{0}}{2} + \\frac{L^{2}_{1} x_{0}}{2} + \\frac{L^{2}_{2} x_{1}}{2} \\right)} \\cos^{2}{\\left(\\frac{L^{1}_{0}}{2} + \\frac{L^{1}_{1} x_{0}}{2} + \\frac{L^{1}_{2} x_{1}}{2} \\right)} + \\cos^{2}{\\left(\\frac{L^{1}_{0}}{2} + \\frac{L^{1}_{1} x_{0}}{2} + \\frac{L^{1}_{2} x_{1}}{2} \\right)} \\cos^{2}{\\left(\\frac{L^{2}_{0}}{2} + \\frac{L^{2}_{1} x_{0}}{2} + \\frac{L^{2}_{2} x_{1}}{2} \\right)}$"
      ],
      "text/plain": [
       "-sin(L^1_0/2 + L^1_1*x0/2 + L^1_2*x1/2)**2*sin(L^2_0/2 + L^2_1*x0/2 + L^2_2*x1/2)**2 - sin(L^1_0/2 + L^1_1*x0/2 + L^1_2*x1/2)**2*cos(L^2_0/2 + L^2_1*x0/2 + L^2_2*x1/2)**2 + sin(L^2_0/2 + L^2_1*x0/2 + L^2_2*x1/2)**2*cos(L^1_0/2 + L^1_1*x0/2 + L^1_2*x1/2)**2 + cos(L^1_0/2 + L^1_1*x0/2 + L^1_2*x1/2)**2*cos(L^2_0/2 + L^2_1*x0/2 + L^2_2*x1/2)**2"
      ]
     },
     "execution_count": 3,
     "metadata": {},
     "output_type": "execute_result"
    }
   ],
   "source": [
    "# initialize input variables: x0 and x1\n",
    "x0 = sp.Symbol(\"x0\", real=True)\n",
    "x1 = sp.Symbol(\"x1\", real=True)\n",
    "x  = sp.Matrix([x0, x1])\n",
    "\n",
    "# create a hybrid model\n",
    "input_dim = len(x)\n",
    "model = HybridModel(input_dim)\n",
    "result = model(x)[0]\n",
    "\n",
    "from contextlib import redirect_stdout\n",
    "with open('example_ml.txt', 'w') as f:\n",
    "    # save sympy pretty print to txt file\n",
    "    with redirect_stdout(f):\n",
    "        sp.pprint(result)\n",
    "\n",
    "result"
   ]
  }
 ],
 "metadata": {
  "kernelspec": {
   "display_name": "Python 3.9.12 64-bit ('3.9.12')",
   "language": "python",
   "name": "python3"
  },
  "language_info": {
   "codemirror_mode": {
    "name": "ipython",
    "version": 3
   },
   "file_extension": ".py",
   "mimetype": "text/x-python",
   "name": "python",
   "nbconvert_exporter": "python",
   "pygments_lexer": "ipython3",
   "version": "3.9.12"
  },
  "orig_nbformat": 4,
  "vscode": {
   "interpreter": {
    "hash": "5a4e50ce306cadecc040fef2ef7fca64662416065b3c74367558380d4115cc3b"
   }
  }
 },
 "nbformat": 4,
 "nbformat_minor": 2
}
