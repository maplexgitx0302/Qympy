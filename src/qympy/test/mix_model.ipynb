{
 "cells": [
  {
   "cell_type": "code",
   "execution_count": 1,
   "metadata": {},
   "outputs": [],
   "source": [
    "import numpy as np\n",
    "import sympy as sp\n",
    "\n",
    "import os, sys\n",
    "sys.path.append(\"../../\")\n",
    "from qympy.quantum_circuit.sp_circuit import Circuit\n",
    "from qympy.machine_learning.classical import Linear\n",
    "from qympy.machine_learning.quantum import Measurement, AngleEncoding, SingleRot"
   ]
  },
  {
   "cell_type": "code",
   "execution_count": 6,
   "metadata": {},
   "outputs": [],
   "source": [
    "class MixModel:\n",
    "    def __init__(self):\n",
    "        self.net = [\n",
    "            Linear(2,2),\n",
    "            AngleEncoding(2, rot_gate=\"ry\") + SingleRot(2, 1, \"T\"),\n",
    "            Measurement(qubits=[0,1], bases=[\"X\"])\n",
    "        ]\n",
    "    def __call__(self, x):\n",
    "        for submodel in self.net:\n",
    "            x = submodel(x)\n",
    "        return x"
   ]
  },
  {
   "cell_type": "code",
   "execution_count": 7,
   "metadata": {},
   "outputs": [
    {
     "data": {
      "text/latex": [
       "$\\displaystyle \\left[\\begin{matrix}\\left(- e^{\\frac{i T^{0}_{0,0}}{2}} \\sin{\\left(\\frac{T^{0}_{0,1}}{2} \\right)} \\sin{\\left(\\frac{inputs_{0}}{2} \\right)} + e^{- \\frac{i T^{0}_{0,0}}{2}} \\cos{\\left(\\frac{T^{0}_{0,1}}{2} \\right)} \\cos{\\left(\\frac{inputs_{0}}{2} \\right)}\\right) \\left(e^{\\frac{i T^{0}_{0,0}}{2}} \\sin{\\left(\\frac{T^{0}_{0,1}}{2} \\right)} \\cos{\\left(\\frac{inputs_{0}}{2} \\right)} + e^{- \\frac{i T^{0}_{0,0}}{2}} \\sin{\\left(\\frac{inputs_{0}}{2} \\right)} \\cos{\\left(\\frac{T^{0}_{0,1}}{2} \\right)}\\right) \\left(- e^{\\frac{i T^{0}_{1,0}}{2}} \\sin{\\left(\\frac{T^{0}_{1,1}}{2} \\right)} \\sin{\\left(\\frac{inputs_{1}}{2} \\right)} + e^{- \\frac{i T^{0}_{1,0}}{2}} \\cos{\\left(\\frac{T^{0}_{1,1}}{2} \\right)} \\cos{\\left(\\frac{inputs_{1}}{2} \\right)}\\right) \\left(e^{\\frac{i T^{0}_{1,0}}{2}} \\sin{\\left(\\frac{T^{0}_{1,1}}{2} \\right)} \\cos{\\left(\\frac{inputs_{1}}{2} \\right)} + e^{- \\frac{i T^{0}_{1,0}}{2}} \\sin{\\left(\\frac{inputs_{1}}{2} \\right)} \\cos{\\left(\\frac{T^{0}_{1,1}}{2} \\right)}\\right) e^{- i T^{0}_{0,2}} e^{- i T^{0}_{1,2}} + \\left(- e^{\\frac{i T^{0}_{0,0}}{2}} \\sin{\\left(\\frac{T^{0}_{0,1}}{2} \\right)} \\sin{\\left(\\frac{inputs_{0}}{2} \\right)} + e^{- \\frac{i T^{0}_{0,0}}{2}} \\cos{\\left(\\frac{T^{0}_{0,1}}{2} \\right)} \\cos{\\left(\\frac{inputs_{0}}{2} \\right)}\\right) \\left(e^{\\frac{i T^{0}_{0,0}}{2}} \\sin{\\left(\\frac{T^{0}_{0,1}}{2} \\right)} \\cos{\\left(\\frac{inputs_{0}}{2} \\right)} + e^{- \\frac{i T^{0}_{0,0}}{2}} \\sin{\\left(\\frac{inputs_{0}}{2} \\right)} \\cos{\\left(\\frac{T^{0}_{0,1}}{2} \\right)}\\right) \\left(e^{\\frac{i T^{0}_{1,0}}{2}} \\sin{\\left(\\frac{inputs_{1}}{2} \\right)} \\cos{\\left(\\frac{T^{0}_{1,1}}{2} \\right)} + e^{- \\frac{i T^{0}_{1,0}}{2}} \\sin{\\left(\\frac{T^{0}_{1,1}}{2} \\right)} \\cos{\\left(\\frac{inputs_{1}}{2} \\right)}\\right) \\left(e^{\\frac{i T^{0}_{1,0}}{2}} \\cos{\\left(\\frac{T^{0}_{1,1}}{2} \\right)} \\cos{\\left(\\frac{inputs_{1}}{2} \\right)} - e^{- \\frac{i T^{0}_{1,0}}{2}} \\sin{\\left(\\frac{T^{0}_{1,1}}{2} \\right)} \\sin{\\left(\\frac{inputs_{1}}{2} \\right)}\\right) e^{- i T^{0}_{0,2}} e^{i T^{0}_{1,2}} + \\left(e^{\\frac{i T^{0}_{0,0}}{2}} \\sin{\\left(\\frac{inputs_{0}}{2} \\right)} \\cos{\\left(\\frac{T^{0}_{0,1}}{2} \\right)} + e^{- \\frac{i T^{0}_{0,0}}{2}} \\sin{\\left(\\frac{T^{0}_{0,1}}{2} \\right)} \\cos{\\left(\\frac{inputs_{0}}{2} \\right)}\\right) \\left(e^{\\frac{i T^{0}_{0,0}}{2}} \\cos{\\left(\\frac{T^{0}_{0,1}}{2} \\right)} \\cos{\\left(\\frac{inputs_{0}}{2} \\right)} - e^{- \\frac{i T^{0}_{0,0}}{2}} \\sin{\\left(\\frac{T^{0}_{0,1}}{2} \\right)} \\sin{\\left(\\frac{inputs_{0}}{2} \\right)}\\right) \\left(- e^{\\frac{i T^{0}_{1,0}}{2}} \\sin{\\left(\\frac{T^{0}_{1,1}}{2} \\right)} \\sin{\\left(\\frac{inputs_{1}}{2} \\right)} + e^{- \\frac{i T^{0}_{1,0}}{2}} \\cos{\\left(\\frac{T^{0}_{1,1}}{2} \\right)} \\cos{\\left(\\frac{inputs_{1}}{2} \\right)}\\right) \\left(e^{\\frac{i T^{0}_{1,0}}{2}} \\sin{\\left(\\frac{T^{0}_{1,1}}{2} \\right)} \\cos{\\left(\\frac{inputs_{1}}{2} \\right)} + e^{- \\frac{i T^{0}_{1,0}}{2}} \\sin{\\left(\\frac{inputs_{1}}{2} \\right)} \\cos{\\left(\\frac{T^{0}_{1,1}}{2} \\right)}\\right) e^{i T^{0}_{0,2}} e^{- i T^{0}_{1,2}} + \\left(e^{\\frac{i T^{0}_{0,0}}{2}} \\sin{\\left(\\frac{inputs_{0}}{2} \\right)} \\cos{\\left(\\frac{T^{0}_{0,1}}{2} \\right)} + e^{- \\frac{i T^{0}_{0,0}}{2}} \\sin{\\left(\\frac{T^{0}_{0,1}}{2} \\right)} \\cos{\\left(\\frac{inputs_{0}}{2} \\right)}\\right) \\left(e^{\\frac{i T^{0}_{0,0}}{2}} \\cos{\\left(\\frac{T^{0}_{0,1}}{2} \\right)} \\cos{\\left(\\frac{inputs_{0}}{2} \\right)} - e^{- \\frac{i T^{0}_{0,0}}{2}} \\sin{\\left(\\frac{T^{0}_{0,1}}{2} \\right)} \\sin{\\left(\\frac{inputs_{0}}{2} \\right)}\\right) \\left(e^{\\frac{i T^{0}_{1,0}}{2}} \\sin{\\left(\\frac{inputs_{1}}{2} \\right)} \\cos{\\left(\\frac{T^{0}_{1,1}}{2} \\right)} + e^{- \\frac{i T^{0}_{1,0}}{2}} \\sin{\\left(\\frac{T^{0}_{1,1}}{2} \\right)} \\cos{\\left(\\frac{inputs_{1}}{2} \\right)}\\right) \\left(e^{\\frac{i T^{0}_{1,0}}{2}} \\cos{\\left(\\frac{T^{0}_{1,1}}{2} \\right)} \\cos{\\left(\\frac{inputs_{1}}{2} \\right)} - e^{- \\frac{i T^{0}_{1,0}}{2}} \\sin{\\left(\\frac{T^{0}_{1,1}}{2} \\right)} \\sin{\\left(\\frac{inputs_{1}}{2} \\right)}\\right) e^{i T^{0}_{0,2}} e^{i T^{0}_{1,2}}\\\\\\left(- e^{\\frac{i T^{0}_{0,0}}{2}} \\sin{\\left(\\frac{T^{0}_{0,1}}{2} \\right)} \\sin{\\left(\\frac{inputs_{0}}{2} \\right)} + e^{- \\frac{i T^{0}_{0,0}}{2}} \\cos{\\left(\\frac{T^{0}_{0,1}}{2} \\right)} \\cos{\\left(\\frac{inputs_{0}}{2} \\right)}\\right) \\left(e^{\\frac{i T^{0}_{0,0}}{2}} \\cos{\\left(\\frac{T^{0}_{0,1}}{2} \\right)} \\cos{\\left(\\frac{inputs_{0}}{2} \\right)} - e^{- \\frac{i T^{0}_{0,0}}{2}} \\sin{\\left(\\frac{T^{0}_{0,1}}{2} \\right)} \\sin{\\left(\\frac{inputs_{0}}{2} \\right)}\\right) \\left(- e^{\\frac{i T^{0}_{1,0}}{2}} \\sin{\\left(\\frac{T^{0}_{1,1}}{2} \\right)} \\sin{\\left(\\frac{inputs_{1}}{2} \\right)} + e^{- \\frac{i T^{0}_{1,0}}{2}} \\cos{\\left(\\frac{T^{0}_{1,1}}{2} \\right)} \\cos{\\left(\\frac{inputs_{1}}{2} \\right)}\\right) \\left(e^{\\frac{i T^{0}_{1,0}}{2}} \\sin{\\left(\\frac{T^{0}_{1,1}}{2} \\right)} \\cos{\\left(\\frac{inputs_{1}}{2} \\right)} + e^{- \\frac{i T^{0}_{1,0}}{2}} \\sin{\\left(\\frac{inputs_{1}}{2} \\right)} \\cos{\\left(\\frac{T^{0}_{1,1}}{2} \\right)}\\right) e^{- i T^{0}_{1,2}} + \\left(- e^{\\frac{i T^{0}_{0,0}}{2}} \\sin{\\left(\\frac{T^{0}_{0,1}}{2} \\right)} \\sin{\\left(\\frac{inputs_{0}}{2} \\right)} + e^{- \\frac{i T^{0}_{0,0}}{2}} \\cos{\\left(\\frac{T^{0}_{0,1}}{2} \\right)} \\cos{\\left(\\frac{inputs_{0}}{2} \\right)}\\right) \\left(e^{\\frac{i T^{0}_{0,0}}{2}} \\cos{\\left(\\frac{T^{0}_{0,1}}{2} \\right)} \\cos{\\left(\\frac{inputs_{0}}{2} \\right)} - e^{- \\frac{i T^{0}_{0,0}}{2}} \\sin{\\left(\\frac{T^{0}_{0,1}}{2} \\right)} \\sin{\\left(\\frac{inputs_{0}}{2} \\right)}\\right) \\left(e^{\\frac{i T^{0}_{1,0}}{2}} \\sin{\\left(\\frac{inputs_{1}}{2} \\right)} \\cos{\\left(\\frac{T^{0}_{1,1}}{2} \\right)} + e^{- \\frac{i T^{0}_{1,0}}{2}} \\sin{\\left(\\frac{T^{0}_{1,1}}{2} \\right)} \\cos{\\left(\\frac{inputs_{1}}{2} \\right)}\\right) \\left(e^{\\frac{i T^{0}_{1,0}}{2}} \\cos{\\left(\\frac{T^{0}_{1,1}}{2} \\right)} \\cos{\\left(\\frac{inputs_{1}}{2} \\right)} - e^{- \\frac{i T^{0}_{1,0}}{2}} \\sin{\\left(\\frac{T^{0}_{1,1}}{2} \\right)} \\sin{\\left(\\frac{inputs_{1}}{2} \\right)}\\right) e^{i T^{0}_{1,2}} + \\left(e^{\\frac{i T^{0}_{0,0}}{2}} \\sin{\\left(\\frac{T^{0}_{0,1}}{2} \\right)} \\cos{\\left(\\frac{inputs_{0}}{2} \\right)} + e^{- \\frac{i T^{0}_{0,0}}{2}} \\sin{\\left(\\frac{inputs_{0}}{2} \\right)} \\cos{\\left(\\frac{T^{0}_{0,1}}{2} \\right)}\\right) \\left(e^{\\frac{i T^{0}_{0,0}}{2}} \\sin{\\left(\\frac{inputs_{0}}{2} \\right)} \\cos{\\left(\\frac{T^{0}_{0,1}}{2} \\right)} + e^{- \\frac{i T^{0}_{0,0}}{2}} \\sin{\\left(\\frac{T^{0}_{0,1}}{2} \\right)} \\cos{\\left(\\frac{inputs_{0}}{2} \\right)}\\right) \\left(- e^{\\frac{i T^{0}_{1,0}}{2}} \\sin{\\left(\\frac{T^{0}_{1,1}}{2} \\right)} \\sin{\\left(\\frac{inputs_{1}}{2} \\right)} + e^{- \\frac{i T^{0}_{1,0}}{2}} \\cos{\\left(\\frac{T^{0}_{1,1}}{2} \\right)} \\cos{\\left(\\frac{inputs_{1}}{2} \\right)}\\right) \\left(e^{\\frac{i T^{0}_{1,0}}{2}} \\sin{\\left(\\frac{T^{0}_{1,1}}{2} \\right)} \\cos{\\left(\\frac{inputs_{1}}{2} \\right)} + e^{- \\frac{i T^{0}_{1,0}}{2}} \\sin{\\left(\\frac{inputs_{1}}{2} \\right)} \\cos{\\left(\\frac{T^{0}_{1,1}}{2} \\right)}\\right) e^{- i T^{0}_{1,2}} + \\left(e^{\\frac{i T^{0}_{0,0}}{2}} \\sin{\\left(\\frac{T^{0}_{0,1}}{2} \\right)} \\cos{\\left(\\frac{inputs_{0}}{2} \\right)} + e^{- \\frac{i T^{0}_{0,0}}{2}} \\sin{\\left(\\frac{inputs_{0}}{2} \\right)} \\cos{\\left(\\frac{T^{0}_{0,1}}{2} \\right)}\\right) \\left(e^{\\frac{i T^{0}_{0,0}}{2}} \\sin{\\left(\\frac{inputs_{0}}{2} \\right)} \\cos{\\left(\\frac{T^{0}_{0,1}}{2} \\right)} + e^{- \\frac{i T^{0}_{0,0}}{2}} \\sin{\\left(\\frac{T^{0}_{0,1}}{2} \\right)} \\cos{\\left(\\frac{inputs_{0}}{2} \\right)}\\right) \\left(e^{\\frac{i T^{0}_{1,0}}{2}} \\sin{\\left(\\frac{inputs_{1}}{2} \\right)} \\cos{\\left(\\frac{T^{0}_{1,1}}{2} \\right)} + e^{- \\frac{i T^{0}_{1,0}}{2}} \\sin{\\left(\\frac{T^{0}_{1,1}}{2} \\right)} \\cos{\\left(\\frac{inputs_{1}}{2} \\right)}\\right) \\left(e^{\\frac{i T^{0}_{1,0}}{2}} \\cos{\\left(\\frac{T^{0}_{1,1}}{2} \\right)} \\cos{\\left(\\frac{inputs_{1}}{2} \\right)} - e^{- \\frac{i T^{0}_{1,0}}{2}} \\sin{\\left(\\frac{T^{0}_{1,1}}{2} \\right)} \\sin{\\left(\\frac{inputs_{1}}{2} \\right)}\\right) e^{i T^{0}_{1,2}}\\end{matrix}\\right]$"
      ],
      "text/plain": [
       "Matrix([\n",
       "[(-exp(I*T^0_0,0/2)*sin(T^0_0,1/2)*sin(inputs_0/2) + exp(-I*T^0_0,0/2)*cos(T^0_0,1/2)*cos(inputs_0/2))*(exp(I*T^0_0,0/2)*sin(T^0_0,1/2)*cos(inputs_0/2) + exp(-I*T^0_0,0/2)*sin(inputs_0/2)*cos(T^0_0,1/2))*(-exp(I*T^0_1,0/2)*sin(T^0_1,1/2)*sin(inputs_1/2) + exp(-I*T^0_1,0/2)*cos(T^0_1,1/2)*cos(inputs_1/2))*(exp(I*T^0_1,0/2)*sin(T^0_1,1/2)*cos(inputs_1/2) + exp(-I*T^0_1,0/2)*sin(inputs_1/2)*cos(T^0_1,1/2))*exp(-I*T^0_0,2)*exp(-I*T^0_1,2) + (-exp(I*T^0_0,0/2)*sin(T^0_0,1/2)*sin(inputs_0/2) + exp(-I*T^0_0,0/2)*cos(T^0_0,1/2)*cos(inputs_0/2))*(exp(I*T^0_0,0/2)*sin(T^0_0,1/2)*cos(inputs_0/2) + exp(-I*T^0_0,0/2)*sin(inputs_0/2)*cos(T^0_0,1/2))*(exp(I*T^0_1,0/2)*sin(inputs_1/2)*cos(T^0_1,1/2) + exp(-I*T^0_1,0/2)*sin(T^0_1,1/2)*cos(inputs_1/2))*(exp(I*T^0_1,0/2)*cos(T^0_1,1/2)*cos(inputs_1/2) - exp(-I*T^0_1,0/2)*sin(T^0_1,1/2)*sin(inputs_1/2))*exp(-I*T^0_0,2)*exp(I*T^0_1,2) + (exp(I*T^0_0,0/2)*sin(inputs_0/2)*cos(T^0_0,1/2) + exp(-I*T^0_0,0/2)*sin(T^0_0,1/2)*cos(inputs_0/2))*(exp(I*T^0_0,0/2)*cos(T^0_0,1/2)*cos(inputs_0/2) - exp(-I*T^0_0,0/2)*sin(T^0_0,1/2)*sin(inputs_0/2))*(-exp(I*T^0_1,0/2)*sin(T^0_1,1/2)*sin(inputs_1/2) + exp(-I*T^0_1,0/2)*cos(T^0_1,1/2)*cos(inputs_1/2))*(exp(I*T^0_1,0/2)*sin(T^0_1,1/2)*cos(inputs_1/2) + exp(-I*T^0_1,0/2)*sin(inputs_1/2)*cos(T^0_1,1/2))*exp(I*T^0_0,2)*exp(-I*T^0_1,2) + (exp(I*T^0_0,0/2)*sin(inputs_0/2)*cos(T^0_0,1/2) + exp(-I*T^0_0,0/2)*sin(T^0_0,1/2)*cos(inputs_0/2))*(exp(I*T^0_0,0/2)*cos(T^0_0,1/2)*cos(inputs_0/2) - exp(-I*T^0_0,0/2)*sin(T^0_0,1/2)*sin(inputs_0/2))*(exp(I*T^0_1,0/2)*sin(inputs_1/2)*cos(T^0_1,1/2) + exp(-I*T^0_1,0/2)*sin(T^0_1,1/2)*cos(inputs_1/2))*(exp(I*T^0_1,0/2)*cos(T^0_1,1/2)*cos(inputs_1/2) - exp(-I*T^0_1,0/2)*sin(T^0_1,1/2)*sin(inputs_1/2))*exp(I*T^0_0,2)*exp(I*T^0_1,2)],\n",
       "[                                                              (-exp(I*T^0_0,0/2)*sin(T^0_0,1/2)*sin(inputs_0/2) + exp(-I*T^0_0,0/2)*cos(T^0_0,1/2)*cos(inputs_0/2))*(exp(I*T^0_0,0/2)*cos(T^0_0,1/2)*cos(inputs_0/2) - exp(-I*T^0_0,0/2)*sin(T^0_0,1/2)*sin(inputs_0/2))*(-exp(I*T^0_1,0/2)*sin(T^0_1,1/2)*sin(inputs_1/2) + exp(-I*T^0_1,0/2)*cos(T^0_1,1/2)*cos(inputs_1/2))*(exp(I*T^0_1,0/2)*sin(T^0_1,1/2)*cos(inputs_1/2) + exp(-I*T^0_1,0/2)*sin(inputs_1/2)*cos(T^0_1,1/2))*exp(-I*T^0_1,2) + (-exp(I*T^0_0,0/2)*sin(T^0_0,1/2)*sin(inputs_0/2) + exp(-I*T^0_0,0/2)*cos(T^0_0,1/2)*cos(inputs_0/2))*(exp(I*T^0_0,0/2)*cos(T^0_0,1/2)*cos(inputs_0/2) - exp(-I*T^0_0,0/2)*sin(T^0_0,1/2)*sin(inputs_0/2))*(exp(I*T^0_1,0/2)*sin(inputs_1/2)*cos(T^0_1,1/2) + exp(-I*T^0_1,0/2)*sin(T^0_1,1/2)*cos(inputs_1/2))*(exp(I*T^0_1,0/2)*cos(T^0_1,1/2)*cos(inputs_1/2) - exp(-I*T^0_1,0/2)*sin(T^0_1,1/2)*sin(inputs_1/2))*exp(I*T^0_1,2) + (exp(I*T^0_0,0/2)*sin(T^0_0,1/2)*cos(inputs_0/2) + exp(-I*T^0_0,0/2)*sin(inputs_0/2)*cos(T^0_0,1/2))*(exp(I*T^0_0,0/2)*sin(inputs_0/2)*cos(T^0_0,1/2) + exp(-I*T^0_0,0/2)*sin(T^0_0,1/2)*cos(inputs_0/2))*(-exp(I*T^0_1,0/2)*sin(T^0_1,1/2)*sin(inputs_1/2) + exp(-I*T^0_1,0/2)*cos(T^0_1,1/2)*cos(inputs_1/2))*(exp(I*T^0_1,0/2)*sin(T^0_1,1/2)*cos(inputs_1/2) + exp(-I*T^0_1,0/2)*sin(inputs_1/2)*cos(T^0_1,1/2))*exp(-I*T^0_1,2) + (exp(I*T^0_0,0/2)*sin(T^0_0,1/2)*cos(inputs_0/2) + exp(-I*T^0_0,0/2)*sin(inputs_0/2)*cos(T^0_0,1/2))*(exp(I*T^0_0,0/2)*sin(inputs_0/2)*cos(T^0_0,1/2) + exp(-I*T^0_0,0/2)*sin(T^0_0,1/2)*cos(inputs_0/2))*(exp(I*T^0_1,0/2)*sin(inputs_1/2)*cos(T^0_1,1/2) + exp(-I*T^0_1,0/2)*sin(T^0_1,1/2)*cos(inputs_1/2))*(exp(I*T^0_1,0/2)*cos(T^0_1,1/2)*cos(inputs_1/2) - exp(-I*T^0_1,0/2)*sin(T^0_1,1/2)*sin(inputs_1/2))*exp(I*T^0_1,2)]])"
      ]
     },
     "execution_count": 7,
     "metadata": {},
     "output_type": "execute_result"
    }
   ],
   "source": [
    "input_dim = 2\n",
    "x_data = sp.Matrix(sp.symbols(f\"x0:{input_dim}\", real=True))\n",
    "model = MixModel()\n",
    "\n",
    "model(x_data)"
   ]
  }
 ],
 "metadata": {
  "kernelspec": {
   "display_name": "Python 3.9.12 64-bit ('3.9.12')",
   "language": "python",
   "name": "python3"
  },
  "language_info": {
   "codemirror_mode": {
    "name": "ipython",
    "version": 3
   },
   "file_extension": ".py",
   "mimetype": "text/x-python",
   "name": "python",
   "nbconvert_exporter": "python",
   "pygments_lexer": "ipython3",
   "version": "3.9.12"
  },
  "orig_nbformat": 4,
  "vscode": {
   "interpreter": {
    "hash": "5a4e50ce306cadecc040fef2ef7fca64662416065b3c74367558380d4115cc3b"
   }
  }
 },
 "nbformat": 4,
 "nbformat_minor": 2
}
