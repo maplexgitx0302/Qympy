{
 "cells": [
  {
   "cell_type": "code",
   "execution_count": 2,
   "metadata": {},
   "outputs": [],
   "source": [
    "import numpy as np\n",
    "import sympy as sp\n",
    "import circuit"
   ]
  },
  {
   "cell_type": "code",
   "execution_count": 3,
   "metadata": {},
   "outputs": [
    {
     "data": {
      "image/png": "[encoded data removed]",
      "text/plain": [
       "<Figure size 267.052x144.48 with 1 Axes>"
      ]
     },
     "execution_count": 3,
     "metadata": {},
     "output_type": "execute_result"
    }
   ],
   "source": [
    "num_qubits = 2\n",
    "qc = circuit.Circuit(num_qubits)\n",
    "\n",
    "for i in range(num_qubits):\n",
    "    qc.h(i)\n",
    "for i in range(num_qubits):\n",
    "    qc.ry(f\"t{i}\", i)\n",
    "for i in range(num_qubits-1):\n",
    "    qc.cx(i, (i+1))\n",
    "\n",
    "qc.evolve_state()\n",
    "qc.qiskit_circuit.draw(\"mpl\")"
   ]
  },
  {
   "cell_type": "code",
   "execution_count": 23,
   "metadata": {},
   "outputs": [
    {
     "name": "stdout",
     "output_type": "stream",
     "text": [
      "\\left[\\begin{matrix}\\frac{\\cos{\\left(t_{0} - t_{1} \\right)}}{2} - \\frac{\\cos{\\left(t_{0} + t_{1} \\right)}}{2}\\end{matrix}\\right]\n"
     ]
    },
    {
     "ename": "AttributeError",
     "evalue": "'ImmutableDenseMatrix' object has no attribute '_print'",
     "output_type": "error",
     "traceback": [
      "\u001b[0;31m---------------------------------------------------------------------------\u001b[0m",
      "\u001b[0;31mAttributeError\u001b[0m                            Traceback (most recent call last)",
      "\u001b[1;32m/Users/yianchen/Desktop/Qympy/main.ipynb Cell 3\u001b[0m in \u001b[0;36m<cell line: 4>\u001b[0;34m()\u001b[0m\n\u001b[1;32m      <a href='vscode-notebook-cell:/Users/yianchen/Desktop/Qympy/main.ipynb#ch0000002?line=1'>2</a>\u001b[0m result \u001b[39m=\u001b[39m sp\u001b[39m.\u001b[39msimplify(result)\n\u001b[1;32m      <a href='vscode-notebook-cell:/Users/yianchen/Desktop/Qympy/main.ipynb#ch0000002?line=2'>3</a>\u001b[0m sp\u001b[39m.\u001b[39mprint_latex(result)\n\u001b[0;32m----> <a href='vscode-notebook-cell:/Users/yianchen/Desktop/Qympy/main.ipynb#ch0000002?line=3'>4</a>\u001b[0m result\u001b[39m.\u001b[39;49m_print()\n",
      "\u001b[0;31mAttributeError\u001b[0m: 'ImmutableDenseMatrix' object has no attribute '_print'"
     ]
    }
   ],
   "source": [
    "result = qc.measure(1, \"Z\")\n",
    "result = sp.simplify(result)"
   ]
  }
 ],
 "metadata": {
  "kernelspec": {
   "display_name": "Python 3.8.11 64-bit ('3.8.11')",
   "language": "python",
   "name": "python3"
  },
  "language_info": {
   "codemirror_mode": {
    "name": "ipython",
    "version": 3
   },
   "file_extension": ".py",
   "mimetype": "text/x-python",
   "name": "python",
   "nbconvert_exporter": "python",
   "pygments_lexer": "ipython3",
   "version": "3.8.11"
  },
  "orig_nbformat": 4,
  "vscode": {
   "interpreter": {
    "hash": "a5395b5e764a4418832adfd38f48924b0b13b60dc8377c790fe1d1109da8842f"
   }
  }
 },
 "nbformat": 4,
 "nbformat_minor": 2
}
