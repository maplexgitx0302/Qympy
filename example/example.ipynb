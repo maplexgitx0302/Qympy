{
 "cells": [
  {
   "cell_type": "markdown",
   "metadata": {},
   "source": [
    "# Example code for using Qympy"
   ]
  },
  {
   "cell_type": "code",
   "execution_count": 1,
   "metadata": {},
   "outputs": [],
   "source": [
    "import os, sys\n",
    "sys.path.append(\"../\")\n",
    "\n",
    "import sympy as sp\n",
    "from src.circuit.sp_circuit import Circuit"
   ]
  },
  {
   "cell_type": "markdown",
   "metadata": {},
   "source": [
    "### Example code in README"
   ]
  },
  {
   "cell_type": "code",
   "execution_count": 2,
   "metadata": {},
   "outputs": [
    {
     "data": {
      "image/png": "[encoded data removed]",
      "text/plain": [
       "<Figure size 287.294x200.667 with 1 Axes>"
      ]
     },
     "execution_count": 2,
     "metadata": {},
     "output_type": "execute_result"
    }
   ],
   "source": [
    "qc = Circuit(2)\n",
    "qc.ry(\"t_1\", 1)\n",
    "qc.h(0)\n",
    "qc.cx(0,1)\n",
    "qc.draw(\"mpl\", filename=f\"./example_readme.png\")"
   ]
  },
  {
   "cell_type": "code",
   "execution_count": 3,
   "metadata": {},
   "outputs": [
    {
     "name": "stdout",
     "output_type": "stream",
     "text": [
      "\\sin{\\left(\\frac{t_{1}}{2} \\right)} \\cos{\\left(\\frac{\\overline{t_{1}}}{2} \\right)} + \\sin{\\left(\\frac{\\overline{t_{1}}}{2} \\right)} \\cos{\\left(\\frac{t_{1}}{2} \\right)}\n"
     ]
    },
    {
     "data": {
      "text/latex": [
       "$\\displaystyle \\sin{\\left(\\frac{t_{1}}{2} \\right)} \\cos{\\left(\\frac{\\overline{t_{1}}}{2} \\right)} + \\sin{\\left(\\frac{\\overline{t_{1}}}{2} \\right)} \\cos{\\left(\\frac{t_{1}}{2} \\right)}$"
      ],
      "text/plain": [
       "sin(t_1/2)*cos(conjugate(t_1)/2) + sin(conjugate(t_1)/2)*cos(t_1/2)"
      ]
     },
     "execution_count": 3,
     "metadata": {},
     "output_type": "execute_result"
    }
   ],
   "source": [
    "qc.evolve_state()\n",
    "print(sp.latex(qc.measure(0, \"X\")))\n",
    "qc.measure(0, \"X\")"
   ]
  }
 ],
 "metadata": {
  "kernelspec": {
   "display_name": "Python 3.9.12 64-bit ('3.9.12')",
   "language": "python",
   "name": "python3"
  },
  "language_info": {
   "codemirror_mode": {
    "name": "ipython",
    "version": 3
   },
   "file_extension": ".py",
   "mimetype": "text/x-python",
   "name": "python",
   "nbconvert_exporter": "python",
   "pygments_lexer": "ipython3",
   "version": "3.9.12"
  },
  "orig_nbformat": 4,
  "vscode": {
   "interpreter": {
    "hash": "5a4e50ce306cadecc040fef2ef7fca64662416065b3c74367558380d4115cc3b"
   }
  }
 },
 "nbformat": 4,
 "nbformat_minor": 2
}
