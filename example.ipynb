{
 "cells": [
  {
   "cell_type": "markdown",
   "metadata": {},
   "source": [
    "# Example code for using Qympy"
   ]
  },
  {
   "cell_type": "code",
   "execution_count": 2,
   "metadata": {},
   "outputs": [],
   "source": [
    "import sympy as sp\n",
    "from circuit.circuit import Circuit\n",
    "from circuit.ansatz import SingleRot\n",
    "save_dir = \"example\" # the outputs will be saved in this directory"
   ]
  },
  {
   "cell_type": "markdown",
   "metadata": {},
   "source": [
    "### Example code in README"
   ]
  },
  {
   "cell_type": "code",
   "execution_count": 26,
   "metadata": {},
   "outputs": [
    {
     "data": {
      "image/png": "[encoded data removed]",
      "text/plain": [
       "<Figure size 206.852x144.48 with 1 Axes>"
      ]
     },
     "execution_count": 26,
     "metadata": {},
     "output_type": "execute_result"
    }
   ],
   "source": [
    "qc = Circuit(2)\n",
    "qc.ry(\"t0\", 1)\n",
    "qc.h(0)\n",
    "qc.cx(0,1)\n",
    "qc.draw(\"mpl\", filename=f\"{save_dir}/example_readme.png\")"
   ]
  },
  {
   "cell_type": "code",
   "execution_count": 32,
   "metadata": {},
   "outputs": [
    {
     "data": {
      "text/plain": [
       "'2 \\\\sin{\\\\left(\\\\frac{t_{0}}{2} \\\\right)} \\\\cos{\\\\left(\\\\frac{t_{0}}{2} \\\\right)}'"
      ]
     },
     "execution_count": 32,
     "metadata": {},
     "output_type": "execute_result"
    }
   ],
   "source": [
    "qc.evolve_state()\n",
    "qc.measure(0, \"X\")\n",
    "sp.latex(qc.measure(0, \"X\"))"
   ]
  }
 ],
 "metadata": {
  "kernelspec": {
   "display_name": "Python 3.8.11 64-bit ('3.8.11')",
   "language": "python",
   "name": "python3"
  },
  "language_info": {
   "codemirror_mode": {
    "name": "ipython",
    "version": 3
   },
   "file_extension": ".py",
   "mimetype": "text/x-python",
   "name": "python",
   "nbconvert_exporter": "python",
   "pygments_lexer": "ipython3",
   "version": "3.8.11"
  },
  "orig_nbformat": 4,
  "vscode": {
   "interpreter": {
    "hash": "a5395b5e764a4418832adfd38f48924b0b13b60dc8377c790fe1d1109da8842f"
   }
  }
 },
 "nbformat": 4,
 "nbformat_minor": 2
}
