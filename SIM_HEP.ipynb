{
 "cells": [
  {
   "cell_type": "code",
   "execution_count": 2,
   "metadata": {},
   "outputs": [],
   "source": [
    "import os\n",
    "import sympy as sp\n",
    "from circuit.circuit import Circuit\n",
    "from circuit.ansatz import SingleRot"
   ]
  },
  {
   "cell_type": "code",
   "execution_count": 5,
   "metadata": {},
   "outputs": [],
   "source": [
    "num_qubits = 2\n",
    "hep_circuit = Circuit(num_qubits)\n",
    "\n",
    "# hep_circuit.rx(\"pt\", 0)\n",
    "hep_circuit.rx(\"eta\", 0)\n",
    "hep_circuit.rx(\"phi\", 1)\n",
    "\n",
    "hep_circuit += SingleRot(num_qubits, num_layers=1, prefix=\"T0_\")\n",
    "hep_circuit.evolve_state()\n",
    "\n",
    "# hep_circuit.measure(0, \"Z\")"
   ]
  }
 ],
 "metadata": {
  "kernelspec": {
   "display_name": "Python 3.8.11 64-bit ('3.8.11')",
   "language": "python",
   "name": "python3"
  },
  "language_info": {
   "codemirror_mode": {
    "name": "ipython",
    "version": 3
   },
   "file_extension": ".py",
   "mimetype": "text/x-python",
   "name": "python",
   "nbconvert_exporter": "python",
   "pygments_lexer": "ipython3",
   "version": "3.8.11"
  },
  "orig_nbformat": 4,
  "vscode": {
   "interpreter": {
    "hash": "a5395b5e764a4418832adfd38f48924b0b13b60dc8377c790fe1d1109da8842f"
   }
  }
 },
 "nbformat": 4,
 "nbformat_minor": 2
}
