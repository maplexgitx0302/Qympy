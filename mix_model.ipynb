{
 "cells": [
  {
   "cell_type": "code",
   "execution_count": null,
   "metadata": {},
   "outputs": [],
   "source": [
    "import numpy as np\n",
    "import sympy as sp\n",
    "from circuit.circuit import Circuit\n",
    "from machinelearning.classical import Linear\n",
    "from machinelearning.quantum import Measurement, AngleEncoding, SingleRot"
   ]
  },
  {
   "cell_type": "code",
   "execution_count": null,
   "metadata": {},
   "outputs": [],
   "source": [
    "class MixModel:\n",
    "    def __init__(self):\n",
    "        self.layers = []\n",
    "    def append(self, layer):\n",
    "        if type(layer) == list:\n",
    "            self.layers.append(layer)\n",
    "        else:\n",
    "            self.layers.append([layer])\n",
    "    def __call__(self, x):\n",
    "        for i in range(len(self.layers)):\n",
    "            output = sp.Matrix()\n",
    "            for j in range(len(self.layers[i])):\n",
    "                output = output.col_join(self.layers[i][j](x))\n",
    "            x = output\n",
    "        return x"
   ]
  },
  {
   "cell_type": "code",
   "execution_count": null,
   "metadata": {},
   "outputs": [],
   "source": [
    "input_dim = 2\n",
    "x_data = sp.Matrix(sp.symbols(f\"x0:{input_dim}\", real=True))\n",
    "\n",
    "model = MixModel()\n",
    "model.append([Linear(2, 1, prefix=\"LA\"), AngleEncoding(2)+SingleRot(2, prefix=\"TA\")+Measurement(2,\"measure_single\",[\"Z\"])])\n",
    "model.append([Linear(2, 1, prefix=\"LB\"), AngleEncoding(2)+SingleRot(2, prefix=\"TB\")+Measurement(2,\"measure_single\",[\"Z\"])])\n",
    "\n",
    "model(x_data)"
   ]
  }
 ],
 "metadata": {
  "kernelspec": {
   "display_name": "Python 3.8.11 64-bit ('3.8.11')",
   "language": "python",
   "name": "python3"
  },
  "language_info": {
   "codemirror_mode": {
    "name": "ipython",
    "version": 3
   },
   "file_extension": ".py",
   "mimetype": "text/x-python",
   "name": "python",
   "nbconvert_exporter": "python",
   "pygments_lexer": "ipython3",
   "version": "3.8.11"
  },
  "orig_nbformat": 4,
  "vscode": {
   "interpreter": {
    "hash": "a5395b5e764a4418832adfd38f48924b0b13b60dc8377c790fe1d1109da8842f"
   }
  }
 },
 "nbformat": 4,
 "nbformat_minor": 2
}
